{
 "cells": [
  {
   "cell_type": "markdown",
   "metadata": {},
   "source": [
    "# Covid-19 Vaccines in California and their Impacts"
   ]
  },
  {
   "cell_type": "markdown",
   "metadata": {},
   "source": [
    "## Data Cleaning and Exploration"
   ]
  },
  {
   "cell_type": "code",
   "execution_count": null,
   "metadata": {},
   "outputs": [],
   "source": [
    "import pandas as pd\n",
    "import scipy.stats as sts\n",
    "import matplotlib.pyplot as plt\n",
    "import datetime as dt\n",
    "import requests\n",
    "from census import Census\n",
    "from us import states\n",
    "import json\n",
    "\n",
    "#import API keys\n",
    "from config import api_key\n",
    "from config import gkey\n",
    "c = Census(api_key)"
   ]
  },
  {
   "cell_type": "markdown",
   "metadata": {},
   "source": [
    "### Cleaning Data"
   ]
  },
  {
   "cell_type": "code",
   "execution_count": null,
   "metadata": {},
   "outputs": [],
   "source": [
    "# Cleaning Cases Data\n",
    "case_df = pd.read_csv(\"Data/covid19cases_test.csv\")\n",
    "\n",
    "# change date column to easier to compare format\n",
    "case_df.date = pd.to_datetime(case_df['date'],format='%m/%d/%Y')\n",
    "\n",
    "# filter out dates past 3-31-21, as well as rows with useless data\n",
    "clean_case = case_df.loc[(case_df.date<dt.datetime(2021,4,1)) & \\\n",
    "                         (case_df.area != 'Out of state') & \\\n",
    "                         (case_df.area != 'California')& \\\n",
    "                         (case_df.area != 'Unknown')]\n",
    "\n",
    "# filter out columns we dont need\n",
    "clean_case = clean_case[['date','area','population','cases','deaths','total_tests','positive_tests']]\n",
    "\n",
    "# Rename column for dataset consistency\n",
    "clean_case = clean_case.rename(columns={'area': 'county'})\n",
    "\n",
    "# replace missing data with 0\n",
    "clean_case = clean_case.fillna(0)\n",
    "clean_case.to_csv('Data/clean_case.csv', index=False)\n",
    "\n",
    "clean_case.head()"
   ]
  },
  {
   "cell_type": "code",
   "execution_count": null,
   "metadata": {},
   "outputs": [],
   "source": [
    "# Cleaning Vaccinations Data\n",
    "vaccine_df = pd.read_csv(\"Data/covid19vaccinesbycounty.csv\")\n",
    "vaccine_df.head()\n",
    "\n",
    "# Dropping unneeded columns\n",
    "vaccine_df=vaccine_df.drop(columns=['cumulative_pfizer_doses',\n",
    "                         'cumulative_moderna_doses','cumulative_jj_doses',\n",
    "                         'cumulative_at_least_one_dose', 'california_flag'])\n",
    "vaccine_df=vaccine_df.drop(vaccine_df[(vaccine_df['county']=='All CA Counties')|\n",
    "                                      (vaccine_df['county']=='All CA and Non-CA Counties')|\n",
    "                                      (vaccine_df['county']=='Outside California')|\n",
    "                                      (vaccine_df['county']=='Unknown')].index)\n",
    "\n",
    "vaccine_df.to_csv('Data/vaccine_df.csv', index=False)\n",
    "\n",
    "vaccine_df.head()"
   ]
  },
  {
   "cell_type": "code",
   "execution_count": null,
   "metadata": {},
   "outputs": [],
   "source": [
    "# Cleaning Hospital Data"
   ]
  },
  {
   "cell_type": "code",
   "execution_count": null,
   "metadata": {},
   "outputs": [],
   "source": [
    "# Cleaning Colleges Data\n",
    "college_data = pd.read_csv('Data/ca_colleges.csv')\n",
    "\n",
    "college_data.columns = ['School_ID', 'School_name', 'Year', 'Duplicate', 'Street_Address', 'City', 'Zip_code', \n",
    "                        'county', 'Longitude', 'Latitude', 'Total_Enrollment', 'Full_time_enrollment', \n",
    "                        'Part_time_enrollment']\n",
    "\n",
    "college_data.drop(columns=['School_ID', 'Year', 'Duplicate', 'Street_Address', 'City', 'Zip_code', \n",
    "                        'Full_time_enrollment', 'Part_time_enrollment'], inplace=True)\n",
    "\n",
    "college_data.county = college_data.county.map(lambda x: x[ :-7])\n",
    "college_data.dropna(subset=['Total_Enrollment'], inplace=True)\n",
    "college_data.to_csv('Data/college_data.csv', index=False)\n",
    "\n",
    "college_data.head()"
   ]
  },
  {
   "cell_type": "code",
   "execution_count": null,
   "metadata": {},
   "outputs": [],
   "source": [
    "#Determining California fips code for API\n",
    "states.CA.fips\n",
    "\n",
    "# Obtaining US Census Data\n",
    "census_data = c.acs5.get(('NAME', 'B19013_001E', 'B19301_001E', 'B17001_002E', \n",
    "                         'B01003_001E'), geo={'for': 'zip code tabulation area:*', 'in': 'state:06'})\n",
    "census_data[0]\n",
    "\n",
    "#Converting to DataFrame\n",
    "census_df = pd.DataFrame(census_data)\n",
    "\n",
    "census_df.rename(columns={'B19013_001E': 'Household_Income',\n",
    "                         'B19301_001E': 'Income_per_Capita',\n",
    "                         'B17001_002E': 'Poverty_Count', \n",
    "                         'B01003_001E': 'Population', \n",
    "                         'NAME': 'Name', \n",
    "                          'zip code tabulation area': 'Zipcode'}, inplace=True)\n",
    "census_df = census_df.loc[census_df.Household_Income>0].copy()\n",
    "census_df.drop(columns=['Name', 'Poverty_Count', 'state'], inplace=True)\n",
    "census_df = census_df[['Zipcode', 'Household_Income', 'Income_per_Capita', 'Population']]\n",
    "\n",
    "census_df.to_csv('Data/census_df.csv', index=False)\n",
    "census_df.head()"
   ]
  },
  {
   "cell_type": "markdown",
   "metadata": {},
   "source": [
    "### Data Grouping"
   ]
  },
  {
   "cell_type": "code",
   "execution_count": null,
   "metadata": {},
   "outputs": [],
   "source": [
    "#Vaccines by Date:\n",
    "ca_vaccinations=vaccine_df.groupby(['administered_date'],as_index=False).agg({'cumulative_total_doses':['sum']})\n",
    "ca_vaccinations.columns = ca_vaccinations.columns.droplevel(1)\n",
    "ca_vaccinations.administered_date = pd.to_datetime(ca_vaccinations['administered_date'],format='%m/%d/%Y')\n",
    "ca_vaccinations = ca_vaccinations.loc[(ca_vaccinations.administered_date<dt.datetime(2021,4,1))]\n",
    "ca_vaccinations['cumulative_doses_by_10000']=ca_vaccinations.apply(lambda row: row.cumulative_total_doses/10000,axis=1)\n",
    "\n",
    "ca_vaccinations.to_csv('Data/ca_vaccinations.csv', index=False)\n",
    "ca_vaccinations"
   ]
  },
  {
   "cell_type": "code",
   "execution_count": null,
   "metadata": {},
   "outputs": [],
   "source": [
    "# Cases by County:\n",
    "cases_grouped = clean_case.groupby('county').agg({'cases': 'sum',\n",
    "                                                  'deaths': 'sum',\n",
    "                                                  'total_tests': 'sum',\n",
    "                                                  'positive_tests': 'sum',\n",
    "                                                  'population': 'max'})\n",
    "\n",
    "cases_grouped['Cases per 100,000'] = (cases_grouped['cases']/cases_grouped['population']*100000).astype(int)\n",
    "\n",
    "cases_grouped.info()"
   ]
  },
  {
   "cell_type": "code",
   "execution_count": null,
   "metadata": {},
   "outputs": [],
   "source": [
    "# Vaccines by County:\n",
    "vaccine_grouped = vaccine_df.groupby('county').agg({'total_doses': 'sum',\n",
    "                                                  'cumulative_fully_vaccinated': 'max'})\n",
    "\n",
    "vaccine_grouped['Fully Vaccinated per 100,000'] = (vaccine_grouped['cumulative_fully_vaccinated']/\n",
    "                                                         cases_grouped['population']*100000).astype(int)\n",
    "\n",
    "vaccine_grouped.info()"
   ]
  },
  {
   "cell_type": "markdown",
   "metadata": {},
   "source": [
    "Both cases_grouped and vaccines_grouped dataframes contain all 58 counties."
   ]
  },
  {
   "cell_type": "code",
   "execution_count": null,
   "metadata": {},
   "outputs": [],
   "source": [
    "grouped_colleges = college_data.groupby('county')['Total_Enrollment'].sum().astype(int)\n",
    "college_population = grouped_colleges.to_frame()\n",
    "\n",
    "len(college_population)"
   ]
  },
  {
   "cell_type": "markdown",
   "metadata": {},
   "source": [
    "41 of California's counties contain at least one college with student enrollment for the 2019-2020 school year."
   ]
  },
  {
   "cell_type": "markdown",
   "metadata": {},
   "source": [
    "#### Running geocodng API to obtain lat/lon values for counties"
   ]
  },
  {
   "cell_type": "code",
   "execution_count": null,
   "metadata": {},
   "outputs": [],
   "source": [
    "# Create a list of Counties included in data sets to use for geocoding API\n",
    "\n",
    "counties = clean_case['county'].unique()\n",
    "\n",
    "# Creating Lists to fill coordinates\n",
    "lat = []\n",
    "lng = []\n",
    "\n",
    "# Set up for API call\n",
    "base_url = 'https://maps.googleapis.com/maps/api/geocode/json?address='\n",
    "    \n",
    "for county in counties:\n",
    "    target_county = f'{base_url}{county},+CA&key={gkey}'\n",
    "    response = requests.get(target_county).json()\n",
    "    try:\n",
    "        lat.append(response['results'][0]['geometry']['location']['lat'])\n",
    "        lng.append(response['results'][0]['geometry']['location']['lng'])\n",
    "    except:\n",
    "        print(f'{county} could not be located...Skipping')\n",
    "        pass\n",
    "print('Coordinates have been added to datasets.')"
   ]
  },
  {
   "cell_type": "code",
   "execution_count": null,
   "metadata": {},
   "outputs": [],
   "source": [
    "# Build county DF\n",
    "\n",
    "county_dict = {'county': counties,\n",
    "              'latitude': lat,\n",
    "              'longitude': lng}\n",
    "county_data = pd.DataFrame(county_dict)\n",
    "\n",
    "county_data.set_index('county', inplace=True)\n",
    "county_data['population'] = cases_grouped['population']\n",
    "county_data['student_pop'] = college_population['Total_Enrollment']\n",
    "county_data['cases per 100,000'] = cases_grouped['Cases per 100,000']\n",
    "county_data['Fully Vaccinated per 100,000'] = vaccine_grouped['Fully Vaccinated per 100,000']\n",
    "county_data.info()"
   ]
  },
  {
   "cell_type": "code",
   "execution_count": null,
   "metadata": {},
   "outputs": [],
   "source": [
    "county_data['student_pop'] = county_data['student_pop'].fillna(0)\n",
    "county_data.reset_index(inplace=True)\n",
    "county_data['% student population'] = round(county_data['student_pop']/county_data['population']*100,2)\n",
    "\n",
    "county_data.to_csv('Data/county_data.csv', index=False)\n",
    "county_data.head()"
   ]
  },
  {
   "cell_type": "code",
   "execution_count": null,
   "metadata": {},
   "outputs": [],
   "source": []
  },
  {
   "cell_type": "code",
   "execution_count": null,
   "metadata": {},
   "outputs": [],
   "source": []
  }
 ],
 "metadata": {
  "kernelspec": {
   "display_name": "Python 3",
   "language": "python",
   "name": "python3"
  },
  "language_info": {
   "codemirror_mode": {
    "name": "ipython",
    "version": 3
   },
   "file_extension": ".py",
   "mimetype": "text/x-python",
   "name": "python",
   "nbconvert_exporter": "python",
   "pygments_lexer": "ipython3",
   "version": "3.8.5"
  }
 },
 "nbformat": 4,
 "nbformat_minor": 4
}
