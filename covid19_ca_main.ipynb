{
 "cells": [
  {
   "cell_type": "markdown",
   "metadata": {},
   "source": [
    "# Covid-19 Vaccines in California and their Impacts"
   ]
  },
  {
   "cell_type": "markdown",
   "metadata": {},
   "source": [
    "### Hypothesis:\n",
    "#### 1.\tCollege towns had an impact on Covid-19 surges in 2020.\n",
    "#### 2.\tVaccines have directly impacted California’s case and death rates."
   ]
  },
  {
   "cell_type": "code",
   "execution_count": null,
   "metadata": {},
   "outputs": [],
   "source": [
    "#Dependencies\n",
    "import pandas as pd\n",
    "import scipy.stats as sts\n",
    "import matplotlib.pyplot as plt\n",
    "import numpy as np\n",
    "import datetime as dt"
   ]
  },
  {
   "cell_type": "markdown",
   "metadata": {},
   "source": [
    "### Cleaning Data"
   ]
  },
  {
   "cell_type": "code",
   "execution_count": 2,
   "metadata": {},
   "outputs": [],
   "source": [
    "# Cleaning Cases Data\n",
    "import pandas as pd\n",
    "import datetime as dt\n",
    "file_path = \"Data/covid19cases_test.csv\""
   ]
  },
  {
   "cell_type": "code",
   "execution_count": 22,
   "metadata": {},
   "outputs": [
    {
     "data": {
      "text/html": [
       "<div>\n",
       "<style scoped>\n",
       "    .dataframe tbody tr th:only-of-type {\n",
       "        vertical-align: middle;\n",
       "    }\n",
       "\n",
       "    .dataframe tbody tr th {\n",
       "        vertical-align: top;\n",
       "    }\n",
       "\n",
       "    .dataframe thead th {\n",
       "        text-align: right;\n",
       "    }\n",
       "</style>\n",
       "<table border=\"1\" class=\"dataframe\">\n",
       "  <thead>\n",
       "    <tr style=\"text-align: right;\">\n",
       "      <th></th>\n",
       "      <th>date</th>\n",
       "      <th>area</th>\n",
       "      <th>area_type</th>\n",
       "      <th>population</th>\n",
       "      <th>cases</th>\n",
       "      <th>deaths</th>\n",
       "      <th>total_tests</th>\n",
       "      <th>positive_tests</th>\n",
       "      <th>reported_cases</th>\n",
       "      <th>reported_deaths</th>\n",
       "      <th>reported_tests</th>\n",
       "    </tr>\n",
       "  </thead>\n",
       "  <tbody>\n",
       "    <tr>\n",
       "      <th>0</th>\n",
       "      <td>4/23/2021</td>\n",
       "      <td>Alameda</td>\n",
       "      <td>County</td>\n",
       "      <td>1685886.0</td>\n",
       "      <td>0.0</td>\n",
       "      <td>0.0</td>\n",
       "      <td>NaN</td>\n",
       "      <td>NaN</td>\n",
       "      <td>106.0</td>\n",
       "      <td>3.0</td>\n",
       "      <td>11251.0</td>\n",
       "    </tr>\n",
       "    <tr>\n",
       "      <th>1</th>\n",
       "      <td>4/23/2021</td>\n",
       "      <td>Alpine</td>\n",
       "      <td>County</td>\n",
       "      <td>1117.0</td>\n",
       "      <td>0.0</td>\n",
       "      <td>0.0</td>\n",
       "      <td>NaN</td>\n",
       "      <td>NaN</td>\n",
       "      <td>0.0</td>\n",
       "      <td>0.0</td>\n",
       "      <td>2.0</td>\n",
       "    </tr>\n",
       "    <tr>\n",
       "      <th>2</th>\n",
       "      <td>4/23/2021</td>\n",
       "      <td>Amador</td>\n",
       "      <td>County</td>\n",
       "      <td>38531.0</td>\n",
       "      <td>0.0</td>\n",
       "      <td>0.0</td>\n",
       "      <td>NaN</td>\n",
       "      <td>NaN</td>\n",
       "      <td>4.0</td>\n",
       "      <td>0.0</td>\n",
       "      <td>487.0</td>\n",
       "    </tr>\n",
       "    <tr>\n",
       "      <th>3</th>\n",
       "      <td>4/23/2021</td>\n",
       "      <td>Butte</td>\n",
       "      <td>County</td>\n",
       "      <td>217769.0</td>\n",
       "      <td>0.0</td>\n",
       "      <td>0.0</td>\n",
       "      <td>NaN</td>\n",
       "      <td>NaN</td>\n",
       "      <td>16.0</td>\n",
       "      <td>0.0</td>\n",
       "      <td>454.0</td>\n",
       "    </tr>\n",
       "    <tr>\n",
       "      <th>4</th>\n",
       "      <td>4/23/2021</td>\n",
       "      <td>Calaveras</td>\n",
       "      <td>County</td>\n",
       "      <td>44289.0</td>\n",
       "      <td>0.0</td>\n",
       "      <td>0.0</td>\n",
       "      <td>NaN</td>\n",
       "      <td>NaN</td>\n",
       "      <td>5.0</td>\n",
       "      <td>0.0</td>\n",
       "      <td>135.0</td>\n",
       "    </tr>\n",
       "  </tbody>\n",
       "</table>\n",
       "</div>"
      ],
      "text/plain": [
       "        date       area area_type  population  cases  deaths  total_tests  \\\n",
       "0  4/23/2021    Alameda    County   1685886.0    0.0     0.0          NaN   \n",
       "1  4/23/2021     Alpine    County      1117.0    0.0     0.0          NaN   \n",
       "2  4/23/2021     Amador    County     38531.0    0.0     0.0          NaN   \n",
       "3  4/23/2021      Butte    County    217769.0    0.0     0.0          NaN   \n",
       "4  4/23/2021  Calaveras    County     44289.0    0.0     0.0          NaN   \n",
       "\n",
       "   positive_tests  reported_cases  reported_deaths  reported_tests  \n",
       "0             NaN           106.0              3.0         11251.0  \n",
       "1             NaN             0.0              0.0             2.0  \n",
       "2             NaN             4.0              0.0           487.0  \n",
       "3             NaN            16.0              0.0           454.0  \n",
       "4             NaN             5.0              0.0           135.0  "
      ]
     },
     "execution_count": 22,
     "metadata": {},
     "output_type": "execute_result"
    }
   ],
   "source": [
    "case_df = pd.read_csv(file_path)\n",
    "case_df.head()"
   ]
  },
  {
   "cell_type": "code",
   "execution_count": 20,
   "metadata": {},
   "outputs": [
    {
     "data": {
      "text/html": [
       "<div>\n",
       "<style scoped>\n",
       "    .dataframe tbody tr th:only-of-type {\n",
       "        vertical-align: middle;\n",
       "    }\n",
       "\n",
       "    .dataframe tbody tr th {\n",
       "        vertical-align: top;\n",
       "    }\n",
       "\n",
       "    .dataframe thead th {\n",
       "        text-align: right;\n",
       "    }\n",
       "</style>\n",
       "<table border=\"1\" class=\"dataframe\">\n",
       "  <thead>\n",
       "    <tr style=\"text-align: right;\">\n",
       "      <th></th>\n",
       "      <th>date</th>\n",
       "      <th>area</th>\n",
       "      <th>population</th>\n",
       "      <th>cases</th>\n",
       "      <th>deaths</th>\n",
       "      <th>total_tests</th>\n",
       "      <th>positive_tests</th>\n",
       "    </tr>\n",
       "  </thead>\n",
       "  <tbody>\n",
       "    <tr>\n",
       "      <th>1403</th>\n",
       "      <td>2021-03-31</td>\n",
       "      <td>Alameda</td>\n",
       "      <td>1685886.0</td>\n",
       "      <td>98.0</td>\n",
       "      <td>1.0</td>\n",
       "      <td>10553.0</td>\n",
       "      <td>123.0</td>\n",
       "    </tr>\n",
       "    <tr>\n",
       "      <th>1404</th>\n",
       "      <td>2021-03-31</td>\n",
       "      <td>Alpine</td>\n",
       "      <td>1117.0</td>\n",
       "      <td>0.0</td>\n",
       "      <td>0.0</td>\n",
       "      <td>3.0</td>\n",
       "      <td>0.0</td>\n",
       "    </tr>\n",
       "    <tr>\n",
       "      <th>1405</th>\n",
       "      <td>2021-03-31</td>\n",
       "      <td>Amador</td>\n",
       "      <td>38531.0</td>\n",
       "      <td>3.0</td>\n",
       "      <td>0.0</td>\n",
       "      <td>317.0</td>\n",
       "      <td>8.0</td>\n",
       "    </tr>\n",
       "    <tr>\n",
       "      <th>1406</th>\n",
       "      <td>2021-03-31</td>\n",
       "      <td>Butte</td>\n",
       "      <td>217769.0</td>\n",
       "      <td>11.0</td>\n",
       "      <td>0.0</td>\n",
       "      <td>632.0</td>\n",
       "      <td>11.0</td>\n",
       "    </tr>\n",
       "    <tr>\n",
       "      <th>1407</th>\n",
       "      <td>2021-03-31</td>\n",
       "      <td>Calaveras</td>\n",
       "      <td>44289.0</td>\n",
       "      <td>4.0</td>\n",
       "      <td>0.0</td>\n",
       "      <td>80.0</td>\n",
       "      <td>4.0</td>\n",
       "    </tr>\n",
       "    <tr>\n",
       "      <th>...</th>\n",
       "      <td>...</td>\n",
       "      <td>...</td>\n",
       "      <td>...</td>\n",
       "      <td>...</td>\n",
       "      <td>...</td>\n",
       "      <td>...</td>\n",
       "      <td>...</td>\n",
       "    </tr>\n",
       "    <tr>\n",
       "      <th>27322</th>\n",
       "      <td>2020-02-01</td>\n",
       "      <td>Tulare</td>\n",
       "      <td>484423.0</td>\n",
       "      <td>0.0</td>\n",
       "      <td>0.0</td>\n",
       "      <td>0.0</td>\n",
       "      <td>0.0</td>\n",
       "    </tr>\n",
       "    <tr>\n",
       "      <th>27323</th>\n",
       "      <td>2020-02-01</td>\n",
       "      <td>Tuolumne</td>\n",
       "      <td>52351.0</td>\n",
       "      <td>0.0</td>\n",
       "      <td>0.0</td>\n",
       "      <td>0.0</td>\n",
       "      <td>0.0</td>\n",
       "    </tr>\n",
       "    <tr>\n",
       "      <th>27325</th>\n",
       "      <td>2020-02-01</td>\n",
       "      <td>Ventura</td>\n",
       "      <td>852747.0</td>\n",
       "      <td>0.0</td>\n",
       "      <td>0.0</td>\n",
       "      <td>1.0</td>\n",
       "      <td>0.0</td>\n",
       "    </tr>\n",
       "    <tr>\n",
       "      <th>27326</th>\n",
       "      <td>2020-02-01</td>\n",
       "      <td>Yolo</td>\n",
       "      <td>223612.0</td>\n",
       "      <td>0.0</td>\n",
       "      <td>0.0</td>\n",
       "      <td>0.0</td>\n",
       "      <td>0.0</td>\n",
       "    </tr>\n",
       "    <tr>\n",
       "      <th>27327</th>\n",
       "      <td>2020-02-01</td>\n",
       "      <td>Yuba</td>\n",
       "      <td>79290.0</td>\n",
       "      <td>0.0</td>\n",
       "      <td>0.0</td>\n",
       "      <td>0.0</td>\n",
       "      <td>0.0</td>\n",
       "    </tr>\n",
       "  </tbody>\n",
       "</table>\n",
       "<p>24650 rows × 7 columns</p>\n",
       "</div>"
      ],
      "text/plain": [
       "            date       area  population  cases  deaths  total_tests  \\\n",
       "1403  2021-03-31    Alameda   1685886.0   98.0     1.0      10553.0   \n",
       "1404  2021-03-31     Alpine      1117.0    0.0     0.0          3.0   \n",
       "1405  2021-03-31     Amador     38531.0    3.0     0.0        317.0   \n",
       "1406  2021-03-31      Butte    217769.0   11.0     0.0        632.0   \n",
       "1407  2021-03-31  Calaveras     44289.0    4.0     0.0         80.0   \n",
       "...          ...        ...         ...    ...     ...          ...   \n",
       "27322 2020-02-01     Tulare    484423.0    0.0     0.0          0.0   \n",
       "27323 2020-02-01   Tuolumne     52351.0    0.0     0.0          0.0   \n",
       "27325 2020-02-01    Ventura    852747.0    0.0     0.0          1.0   \n",
       "27326 2020-02-01       Yolo    223612.0    0.0     0.0          0.0   \n",
       "27327 2020-02-01       Yuba     79290.0    0.0     0.0          0.0   \n",
       "\n",
       "       positive_tests  \n",
       "1403            123.0  \n",
       "1404              0.0  \n",
       "1405              8.0  \n",
       "1406             11.0  \n",
       "1407              4.0  \n",
       "...               ...  \n",
       "27322             0.0  \n",
       "27323             0.0  \n",
       "27325             0.0  \n",
       "27326             0.0  \n",
       "27327             0.0  \n",
       "\n",
       "[24650 rows x 7 columns]"
      ]
     },
     "execution_count": 20,
     "metadata": {},
     "output_type": "execute_result"
    }
   ],
   "source": [
    "# change date column to easier to compare format\n",
    "case_df.date = pd.to_datetime(case_df['date'],format='%m/%d/%Y')\n",
    "\n",
    "# filter out dates past 3-31-21, as well as rows with useless data\n",
    "clean_case = case_df.loc[(case_df.date<dt.datetime(2021,4,1)) & \\\n",
    "                         (case_df.area != 'Out of state') & \\\n",
    "                         (case_df.area != 'California')& \\\n",
    "                         (case_df.area != 'Unknown')]\n",
    "\n",
    "# filter out columns we dont need\n",
    "clean_case = clean_case[['date','area','population','cases','deaths','total_tests','positive_tests']]\n",
    "\n",
    "# replace missing data with 0\n",
    "clean_case = clean_case.fillna(0)\n",
    "clean_case"
   ]
  },
  {
   "cell_type": "code",
   "execution_count": null,
   "metadata": {},
   "outputs": [],
   "source": [
    "# Cleaning Vaccinations Data"
   ]
  },
  {
   "cell_type": "code",
   "execution_count": null,
   "metadata": {},
   "outputs": [],
   "source": [
    "# Cleaning Hospital Data"
   ]
  },
  {
   "cell_type": "code",
   "execution_count": null,
   "metadata": {},
   "outputs": [],
   "source": [
    "# Cleaning Colleges Data"
   ]
  },
  {
   "cell_type": "markdown",
   "metadata": {},
   "source": [
    "### Connecting API"
   ]
  },
  {
   "cell_type": "code",
   "execution_count": null,
   "metadata": {},
   "outputs": [],
   "source": []
  },
  {
   "cell_type": "code",
   "execution_count": null,
   "metadata": {},
   "outputs": [],
   "source": []
  },
  {
   "cell_type": "markdown",
   "metadata": {},
   "source": [
    "### Summary Statistics"
   ]
  },
  {
   "cell_type": "code",
   "execution_count": null,
   "metadata": {},
   "outputs": [],
   "source": []
  },
  {
   "cell_type": "code",
   "execution_count": null,
   "metadata": {},
   "outputs": [],
   "source": []
  },
  {
   "cell_type": "markdown",
   "metadata": {},
   "source": [
    "## Research Analysis"
   ]
  },
  {
   "cell_type": "markdown",
   "metadata": {},
   "source": [
    "### 1. How has the introduction of the Covid vaccine affected case/death rate in California?"
   ]
  },
  {
   "cell_type": "code",
   "execution_count": null,
   "metadata": {},
   "outputs": [],
   "source": []
  },
  {
   "cell_type": "code",
   "execution_count": null,
   "metadata": {},
   "outputs": [],
   "source": []
  },
  {
   "cell_type": "markdown",
   "metadata": {},
   "source": [
    "### 2. Do “College” towns play a larger role in case surges?"
   ]
  },
  {
   "cell_type": "code",
   "execution_count": null,
   "metadata": {},
   "outputs": [],
   "source": []
  },
  {
   "cell_type": "code",
   "execution_count": null,
   "metadata": {},
   "outputs": [],
   "source": []
  },
  {
   "cell_type": "markdown",
   "metadata": {},
   "source": [
    "### 3. Are there “Vaccination Deserts”? What impact have Covid-19 and the vaccines had in these areas?"
   ]
  },
  {
   "cell_type": "code",
   "execution_count": null,
   "metadata": {},
   "outputs": [],
   "source": []
  },
  {
   "cell_type": "code",
   "execution_count": null,
   "metadata": {},
   "outputs": [],
   "source": []
  },
  {
   "cell_type": "markdown",
   "metadata": {},
   "source": [
    "### 4. Can we predict when California will return to “normal”?"
   ]
  },
  {
   "cell_type": "code",
   "execution_count": null,
   "metadata": {},
   "outputs": [],
   "source": []
  },
  {
   "cell_type": "code",
   "execution_count": null,
   "metadata": {},
   "outputs": [],
   "source": []
  }
 ],
 "metadata": {
  "kernelspec": {
   "display_name": "Python 3",
   "language": "python",
   "name": "python3"
  },
  "language_info": {
   "codemirror_mode": {
    "name": "ipython",
    "version": 3
   },
   "file_extension": ".py",
   "mimetype": "text/x-python",
   "name": "python",
   "nbconvert_exporter": "python",
   "pygments_lexer": "ipython3",
   "version": "3.8.5"
  }
 },
 "nbformat": 4,
 "nbformat_minor": 4
}
