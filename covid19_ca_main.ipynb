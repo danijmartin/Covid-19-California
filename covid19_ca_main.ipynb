{
 "cells": [
  {
   "cell_type": "markdown",
   "metadata": {},
   "source": [
    "# Covid-19 Vaccines in California and their Impacts"
   ]
  },
  {
   "cell_type": "code",
   "execution_count": null,
   "metadata": {},
   "outputs": [],
   "source": [
    "#Hypothesis:\n",
    "#1.\tCollege towns had an impact on Covid-19 surges in 2020.\n",
    "#2.\tVaccines have directly impacted California’s case and death rates.\n"
   ]
  },
  {
   "cell_type": "code",
   "execution_count": 3,
   "metadata": {},
   "outputs": [],
   "source": [
    "#Dependencies\n",
    "import pandas as pd\n",
    "import csv"
   ]
  },
  {
   "cell_type": "markdown",
   "metadata": {},
   "source": [
    "### Cleaning Data"
   ]
  },
  {
   "cell_type": "code",
   "execution_count": null,
   "metadata": {},
   "outputs": [],
   "source": [
    "# Cleaning Cases Data"
   ]
  },
  {
   "cell_type": "code",
   "execution_count": 5,
   "metadata": {},
   "outputs": [
    {
     "data": {
      "text/html": [
       "<div>\n",
       "<style scoped>\n",
       "    .dataframe tbody tr th:only-of-type {\n",
       "        vertical-align: middle;\n",
       "    }\n",
       "\n",
       "    .dataframe tbody tr th {\n",
       "        vertical-align: top;\n",
       "    }\n",
       "\n",
       "    .dataframe thead th {\n",
       "        text-align: right;\n",
       "    }\n",
       "</style>\n",
       "<table border=\"1\" class=\"dataframe\">\n",
       "  <thead>\n",
       "    <tr style=\"text-align: right;\">\n",
       "      <th></th>\n",
       "      <th>county</th>\n",
       "      <th>administered_date</th>\n",
       "      <th>total_doses</th>\n",
       "      <th>pfizer_doses</th>\n",
       "      <th>moderna_doses</th>\n",
       "      <th>jj_doses</th>\n",
       "      <th>partially_vaccinated</th>\n",
       "      <th>total_partially_vaccinated</th>\n",
       "      <th>fully_vaccinated</th>\n",
       "      <th>cumulative_fully_vaccinated</th>\n",
       "      <th>at_least_one_dose</th>\n",
       "    </tr>\n",
       "  </thead>\n",
       "  <tbody>\n",
       "    <tr>\n",
       "      <th>511</th>\n",
       "      <td>Alameda</td>\n",
       "      <td>12/15/2020</td>\n",
       "      <td>36</td>\n",
       "      <td>36</td>\n",
       "      <td>0</td>\n",
       "      <td>0</td>\n",
       "      <td>36</td>\n",
       "      <td>36</td>\n",
       "      <td>0</td>\n",
       "      <td>0</td>\n",
       "      <td>36</td>\n",
       "    </tr>\n",
       "    <tr>\n",
       "      <th>512</th>\n",
       "      <td>Alameda</td>\n",
       "      <td>12/16/2020</td>\n",
       "      <td>202</td>\n",
       "      <td>202</td>\n",
       "      <td>0</td>\n",
       "      <td>0</td>\n",
       "      <td>202</td>\n",
       "      <td>238</td>\n",
       "      <td>0</td>\n",
       "      <td>0</td>\n",
       "      <td>202</td>\n",
       "    </tr>\n",
       "    <tr>\n",
       "      <th>513</th>\n",
       "      <td>Alameda</td>\n",
       "      <td>12/17/2020</td>\n",
       "      <td>396</td>\n",
       "      <td>396</td>\n",
       "      <td>0</td>\n",
       "      <td>0</td>\n",
       "      <td>396</td>\n",
       "      <td>634</td>\n",
       "      <td>0</td>\n",
       "      <td>0</td>\n",
       "      <td>396</td>\n",
       "    </tr>\n",
       "    <tr>\n",
       "      <th>514</th>\n",
       "      <td>Alameda</td>\n",
       "      <td>12/18/2020</td>\n",
       "      <td>1766</td>\n",
       "      <td>1765</td>\n",
       "      <td>1</td>\n",
       "      <td>0</td>\n",
       "      <td>1766</td>\n",
       "      <td>2400</td>\n",
       "      <td>0</td>\n",
       "      <td>0</td>\n",
       "      <td>1766</td>\n",
       "    </tr>\n",
       "    <tr>\n",
       "      <th>515</th>\n",
       "      <td>Alameda</td>\n",
       "      <td>12/19/2020</td>\n",
       "      <td>1357</td>\n",
       "      <td>1357</td>\n",
       "      <td>0</td>\n",
       "      <td>0</td>\n",
       "      <td>1357</td>\n",
       "      <td>3757</td>\n",
       "      <td>0</td>\n",
       "      <td>0</td>\n",
       "      <td>1357</td>\n",
       "    </tr>\n",
       "    <tr>\n",
       "      <th>...</th>\n",
       "      <td>...</td>\n",
       "      <td>...</td>\n",
       "      <td>...</td>\n",
       "      <td>...</td>\n",
       "      <td>...</td>\n",
       "      <td>...</td>\n",
       "      <td>...</td>\n",
       "      <td>...</td>\n",
       "      <td>...</td>\n",
       "      <td>...</td>\n",
       "      <td>...</td>\n",
       "    </tr>\n",
       "    <tr>\n",
       "      <th>7761</th>\n",
       "      <td>Yuba</td>\n",
       "      <td>4/19/2021</td>\n",
       "      <td>244</td>\n",
       "      <td>102</td>\n",
       "      <td>142</td>\n",
       "      <td>0</td>\n",
       "      <td>103</td>\n",
       "      <td>5934</td>\n",
       "      <td>141</td>\n",
       "      <td>12839</td>\n",
       "      <td>103</td>\n",
       "    </tr>\n",
       "    <tr>\n",
       "      <th>7762</th>\n",
       "      <td>Yuba</td>\n",
       "      <td>4/20/2021</td>\n",
       "      <td>302</td>\n",
       "      <td>79</td>\n",
       "      <td>223</td>\n",
       "      <td>0</td>\n",
       "      <td>177</td>\n",
       "      <td>5987</td>\n",
       "      <td>125</td>\n",
       "      <td>12964</td>\n",
       "      <td>178</td>\n",
       "    </tr>\n",
       "    <tr>\n",
       "      <th>7763</th>\n",
       "      <td>Yuba</td>\n",
       "      <td>4/21/2021</td>\n",
       "      <td>694</td>\n",
       "      <td>283</td>\n",
       "      <td>411</td>\n",
       "      <td>0</td>\n",
       "      <td>299</td>\n",
       "      <td>5891</td>\n",
       "      <td>395</td>\n",
       "      <td>13359</td>\n",
       "      <td>299</td>\n",
       "    </tr>\n",
       "    <tr>\n",
       "      <th>7764</th>\n",
       "      <td>Yuba</td>\n",
       "      <td>4/22/2021</td>\n",
       "      <td>269</td>\n",
       "      <td>95</td>\n",
       "      <td>174</td>\n",
       "      <td>0</td>\n",
       "      <td>149</td>\n",
       "      <td>5920</td>\n",
       "      <td>120</td>\n",
       "      <td>13479</td>\n",
       "      <td>149</td>\n",
       "    </tr>\n",
       "    <tr>\n",
       "      <th>7765</th>\n",
       "      <td>Yuba</td>\n",
       "      <td>4/23/2021</td>\n",
       "      <td>177</td>\n",
       "      <td>27</td>\n",
       "      <td>150</td>\n",
       "      <td>0</td>\n",
       "      <td>96</td>\n",
       "      <td>5935</td>\n",
       "      <td>81</td>\n",
       "      <td>13560</td>\n",
       "      <td>96</td>\n",
       "    </tr>\n",
       "  </tbody>\n",
       "</table>\n",
       "<p>7255 rows × 11 columns</p>\n",
       "</div>"
      ],
      "text/plain": [
       "       county administered_date  total_doses  pfizer_doses  moderna_doses  \\\n",
       "511   Alameda        12/15/2020           36            36              0   \n",
       "512   Alameda        12/16/2020          202           202              0   \n",
       "513   Alameda        12/17/2020          396           396              0   \n",
       "514   Alameda        12/18/2020         1766          1765              1   \n",
       "515   Alameda        12/19/2020         1357          1357              0   \n",
       "...       ...               ...          ...           ...            ...   \n",
       "7761     Yuba         4/19/2021          244           102            142   \n",
       "7762     Yuba         4/20/2021          302            79            223   \n",
       "7763     Yuba         4/21/2021          694           283            411   \n",
       "7764     Yuba         4/22/2021          269            95            174   \n",
       "7765     Yuba         4/23/2021          177            27            150   \n",
       "\n",
       "      jj_doses  partially_vaccinated  total_partially_vaccinated  \\\n",
       "511          0                    36                          36   \n",
       "512          0                   202                         238   \n",
       "513          0                   396                         634   \n",
       "514          0                  1766                        2400   \n",
       "515          0                  1357                        3757   \n",
       "...        ...                   ...                         ...   \n",
       "7761         0                   103                        5934   \n",
       "7762         0                   177                        5987   \n",
       "7763         0                   299                        5891   \n",
       "7764         0                   149                        5920   \n",
       "7765         0                    96                        5935   \n",
       "\n",
       "      fully_vaccinated  cumulative_fully_vaccinated  at_least_one_dose  \n",
       "511                  0                            0                 36  \n",
       "512                  0                            0                202  \n",
       "513                  0                            0                396  \n",
       "514                  0                            0               1766  \n",
       "515                  0                            0               1357  \n",
       "...                ...                          ...                ...  \n",
       "7761               141                        12839                103  \n",
       "7762               125                        12964                178  \n",
       "7763               395                        13359                299  \n",
       "7764               120                        13479                149  \n",
       "7765                81                        13560                 96  \n",
       "\n",
       "[7255 rows x 11 columns]"
      ]
     },
     "execution_count": 5,
     "metadata": {},
     "output_type": "execute_result"
    }
   ],
   "source": [
    "# Cleaning Vaccinations Data\n",
    "vaccine_csv_path = \"Data/covid19vaccinesbycounty.csv\"\n",
    "vaccine_df = pd.read_csv(vaccine_csv_path)\n",
    "vaccine_df.head()\n",
    "\n",
    "vaccine_csv_path = \"Data/covid19vaccinesbycounty.csv\"\n",
    "vaccine_df = pd.read_csv(vaccine_csv_path)\n",
    "\n",
    "vaccine_df=vaccine_df.drop(columns=['cumulative_total_doses','cumulative_pfizer_doses',\n",
    "                         'cumulative_moderna_doses','cumulative_jj_doses',\n",
    "                         'cumulative_at_least_one_dose', 'california_flag'])\n",
    "vaccine_df=vaccine_df.drop(vaccine_df[(vaccine_df['county']=='All CA Counties')|(vaccine_df['county']=='All CA and Non-CA Counties')|(vaccine_df['county']=='Outside California')|(vaccine_df['county']=='Unknown')].index)\n",
    "vaccine_df"
   ]
  },
  {
   "cell_type": "code",
   "execution_count": null,
   "metadata": {},
   "outputs": [],
   "source": [
    "# Cleaning Hospital Data"
   ]
  },
  {
   "cell_type": "code",
   "execution_count": null,
   "metadata": {},
   "outputs": [],
   "source": [
    "# Cleaning Colleges Data"
   ]
  },
  {
   "cell_type": "markdown",
   "metadata": {},
   "source": [
    "### Connecting API"
   ]
  },
  {
   "cell_type": "code",
   "execution_count": null,
   "metadata": {},
   "outputs": [],
   "source": []
  },
  {
   "cell_type": "code",
   "execution_count": null,
   "metadata": {},
   "outputs": [],
   "source": []
  },
  {
   "cell_type": "markdown",
   "metadata": {},
   "source": [
    "### Summary Statistics"
   ]
  },
  {
   "cell_type": "code",
   "execution_count": null,
   "metadata": {},
   "outputs": [],
   "source": []
  },
  {
   "cell_type": "code",
   "execution_count": null,
   "metadata": {},
   "outputs": [],
   "source": []
  },
  {
   "cell_type": "markdown",
   "metadata": {},
   "source": [
    "## Research Analysis\n",
    "\n",
    "### 1.\tHow has the introduction of the Covid vaccine affected case/death rate in California?"
   ]
  },
  {
   "cell_type": "code",
   "execution_count": null,
   "metadata": {},
   "outputs": [],
   "source": []
  },
  {
   "cell_type": "code",
   "execution_count": null,
   "metadata": {},
   "outputs": [],
   "source": []
  },
  {
   "cell_type": "markdown",
   "metadata": {},
   "source": [
    "### 2.\tDo “College” towns play a larger role in case surges?"
   ]
  },
  {
   "cell_type": "code",
   "execution_count": null,
   "metadata": {},
   "outputs": [],
   "source": []
  },
  {
   "cell_type": "code",
   "execution_count": null,
   "metadata": {},
   "outputs": [],
   "source": []
  },
  {
   "cell_type": "markdown",
   "metadata": {},
   "source": [
    "### 3.\tAre there “Vaccination Deserts”? What impact have Covid-19 and the vaccines had in these areas?"
   ]
  },
  {
   "cell_type": "code",
   "execution_count": null,
   "metadata": {},
   "outputs": [],
   "source": []
  },
  {
   "cell_type": "code",
   "execution_count": null,
   "metadata": {},
   "outputs": [],
   "source": []
  },
  {
   "cell_type": "markdown",
   "metadata": {},
   "source": [
    "### 4.\tCan we predict when California will return to “normal”?"
   ]
  },
  {
   "cell_type": "code",
   "execution_count": null,
   "metadata": {},
   "outputs": [],
   "source": []
  },
  {
   "cell_type": "code",
   "execution_count": null,
   "metadata": {},
   "outputs": [],
   "source": []
  }
 ],
 "metadata": {
  "kernelspec": {
   "display_name": "Python 3",
   "language": "python",
   "name": "python3"
  },
  "language_info": {
   "codemirror_mode": {
    "name": "ipython",
    "version": 3
   },
   "file_extension": ".py",
   "mimetype": "text/x-python",
   "name": "python",
   "nbconvert_exporter": "python",
   "pygments_lexer": "ipython3",
   "version": "3.8.5"
  }
 },
 "nbformat": 4,
 "nbformat_minor": 4
}
