{
 "cells": [
  {
   "cell_type": "markdown",
   "id": "9547a356",
   "metadata": {},
   "source": [
    "# Covid-19 Vaccines in California and their Impacts"
   ]
  },
  {
   "cell_type": "markdown",
   "id": "9fa7dcfa",
   "metadata": {},
   "source": [
    "## Data Analysis"
   ]
  },
  {
   "cell_type": "markdown",
   "id": "80657d0d",
   "metadata": {},
   "source": [
    "### Hypothesis:\n",
    "#### 1.\tCollege towns had an impact on Covid-19 surges in 2020.\n",
    "#### 2.\tVaccines have directly impacted California’s case and death rates."
   ]
  },
  {
   "cell_type": "code",
   "execution_count": null,
   "id": "8ed1c0a0",
   "metadata": {},
   "outputs": [],
   "source": [
    "import gmaps\n",
    "\n",
    "\n",
    "#import API key for gmaps\n",
    "from config import gkey\n",
    "gmaps.configure(api_key=gkey)"
   ]
  },
  {
   "cell_type": "markdown",
   "id": "ffbdee20",
   "metadata": {},
   "source": [
    "## Research Analysis\n",
    "\n",
    "### 1.\tHow has the introduction of the Covid vaccine affected case/death rate in California?"
   ]
  },
  {
   "cell_type": "code",
   "execution_count": null,
   "id": "d1ebcbdd",
   "metadata": {},
   "outputs": [],
   "source": [
    "#Covid cases vs. vaccinations\n",
    "\n",
    "#covid case & dates for bar graph\n",
    "x1=(clean_case['date'])\n",
    "y1=(clean_case['cases'])\n",
    "\n",
    "#vaccine counts and dates for line graph\n",
    "x2=ca_vaccinations['administered_date']\n",
    "y2=ca_vaccinations['cumulative_doses_by_10000']\n",
    "\n",
    "#format figure\n",
    "fig, axis1 = plt.subplots(figsize=(12,8))\n",
    "axis2=axis1.twinx()    #create a second axis sharing the x-axis\n",
    "\n",
    "#create bar graph using CA case counts\n",
    "axis1.bar(x1,y1,)\n",
    "axis1.set_ylabel(\"CA Case Count\")\n",
    "axis1.set_xlabel('Date')\n",
    "\n",
    "#plot cumulative vaccine counts on 2nd y-axis\n",
    "axis2.plot(x2,y2,color='red')\n",
    "axis2.set_ylabel('Cumulative CA Vaccine Doses \\n(per 10,000)')\n",
    "\n",
    "#change y-ticks for 2nd axis\n",
    "axis2.set_yticks(np.arange(0,2000,500))\n",
    "plt.title('Covid19 Case Count vs. Vaccine Doses \\n California')\n",
    "plt.savefig('Covid19_CaseCount_vs_Vaccine')\n",
    "plt.show()"
   ]
  },
  {
   "cell_type": "code",
   "execution_count": null,
   "id": "5096b6e4",
   "metadata": {},
   "outputs": [],
   "source": [
    "#covid deaths vs. vaccinations \n",
    "death_by_date = clean_case.groupby(['date'],as_index=False).agg({'deaths':['sum']})\n",
    "death_by_date.columns = death_by_date.columns.droplevel(1)\n",
    "\n",
    "#covid case & dates for bar graph\n",
    "x1=(death_by_date['date'])\n",
    "y1=(death_by_date['deaths'])\n",
    "\n",
    "#vaccine counts and dates for line graph\n",
    "x2=ca_vaccinations['administered_date']\n",
    "y2=ca_vaccinations['cumulative_doses_by_10000']\n",
    "\n",
    "#format figure\n",
    "fig, axis1 = plt.subplots(figsize=(12,8))\n",
    "axis2=axis1.twinx()    #create a second axis sharing the x-axis\n",
    "\n",
    "#create bar graph using CA case counts\n",
    "axis1.bar(x1,y1,)\n",
    "axis1.set_ylabel(\"CA Deaths\")\n",
    "axis1.set_xlabel('Date')\n",
    "\n",
    "#plot cumulative vaccine counts on 2nd y-axis\n",
    "axis2.plot(x2,y2,color='red')\n",
    "axis2.set_ylabel('Cumulative CA Vaccine Doses \\n(per 10,000)')\n",
    "\n",
    "#change y-ticks for 2nd axis\n",
    "axis2.set_yticks(np.arange(0,2000,500))\n",
    "\n",
    "plt.title('Covid19 Death Count vs. Vaccine Doses \\n California')\n",
    "plt.savefig('Covid19_DeathCount_vs_Vaccine')\n",
    "\n",
    "plt.show()"
   ]
  },
  {
   "cell_type": "markdown",
   "id": "86f48ad7",
   "metadata": {},
   "source": [
    "### 2.\tDo “College” towns play a larger role in case surges?\n",
    "\n",
    "#### Part 1: Grouping Data"
   ]
  },
  {
   "cell_type": "code",
   "execution_count": null,
   "id": "8c6987a5",
   "metadata": {},
   "outputs": [],
   "source": [
    "#Grabbing 3rd quartile for heatmap max intensities\n",
    "county_data.quantile(0.75)\n",
    "\n",
    "# Locating all counties in the top quartile as \"College Counties\"\n",
    "college_counties = county_data.loc[county_data['% student population']>=7.425]\n",
    "len(college_counties)"
   ]
  },
  {
   "cell_type": "code",
   "execution_count": null,
   "id": "d367d78b",
   "metadata": {},
   "outputs": [],
   "source": [
    "# Creating heat map of Covid-19 cases\n",
    "\n",
    "center = 36.7783,-119.4179\n",
    "counties = county_data[['latitude', 'longitude']]\n",
    "cases = cases_grouped['Cases per 100,000']\n",
    "\n",
    "fig1 = gmaps.figure(center=center, zoom_level=5.5)\n",
    "\n",
    "heatmap_layer_cases = gmaps.heatmap_layer(counties, weights=cases, dissipating=False)\n",
    "heatmap_layer_cases.max_intensity = 9283\n",
    "heatmap_layer_cases.point_radius = 0.25\n",
    "\n",
    "fig1.add_layer(heatmap_layer_cases)\n",
    "\n",
    "#add college counties to the 2020 heatmap\n",
    "\n",
    "info_box_template = \"\"\"\n",
    "<dl>\n",
    "<dt>County</dt><dd>{county}</dd>\n",
    "<dt>% Students</dt><dd>{% student population}</dd>\n",
    "<dt>Cases per 100,000</dt><dd>{cases per 100,000}</dd>\n",
    "</dl>\n",
    "\"\"\"\n",
    "# Store the DataFrame Row\n",
    "\n",
    "county_info = [info_box_template.format(**row) for index, row in college_counties.iterrows()]\n",
    "locations = college_counties[['latitude', 'longitude']]\n",
    "\n",
    "# Add marker layer ontop of heat map\n",
    "\n",
    "markers = gmaps.marker_layer(locations, info_box_content=county_info)\n",
    "fig1.add_layer(markers)\n",
    "\n",
    "# Display figure\n",
    "\n",
    "fig1"
   ]
  },
  {
   "cell_type": "markdown",
   "id": "20012770",
   "metadata": {},
   "source": [
    "The above heatmap was originally broken down by year to see the affect of lower student populations due to virtual learning. However, the maps were identical. This also suggests that each county is maintaining it's own Covid-19 curve. No county appears to have dramatically changed its numbers between 2020 and 2021."
   ]
  },
  {
   "cell_type": "code",
   "execution_count": null,
   "id": "14009cf6",
   "metadata": {},
   "outputs": [],
   "source": [
    "# Creating heat map of Vaccines\n",
    "\n",
    "center = 36.7783,-119.4179\n",
    "counties = county_data[['latitude', 'longitude']]\n",
    "cases = county_data['Fully Vaccinated per 100,000']\n",
    "\n",
    "fig3 = gmaps.figure(center=center, zoom_level=5.5)\n",
    "\n",
    "heatmap_layer_vaccines = gmaps.heatmap_layer(counties, weights=cases, dissipating=False)\n",
    "heatmap_layer_vaccines.max_intensity = 30233\n",
    "heatmap_layer_vaccines.point_radius = 0.25\n",
    "heatmap_layer_vaccines.gradient = [(255,0,0, 0),\n",
    "                                   (255,0,0, 1),\n",
    "                                   (255,255,0, 1),\n",
    "                                   (0,255,0, 1)]\n",
    "\n",
    "fig3.add_layer(heatmap_layer_vaccines)\n",
    "\n",
    "#add college counties to the Vaccine heatmap\n",
    "\n",
    "info_box_template = \"\"\"\n",
    "<dl>\n",
    "<dt>County</dt><dd>{county}</dd>\n",
    "<dt>% Students</dt><dd>{% student population}</dd>\n",
    "<dt>Cases per 100,000</dt><dd>{Fully Vaccinated per 100,000}</dd>\n",
    "</dl>\n",
    "\"\"\"\n",
    "# Store the DataFrame Row\n",
    "\n",
    "county_info = [info_box_template.format(**row) for index, row in college_counties.iterrows()]\n",
    "locations = college_counties[['latitude', 'longitude']]\n",
    "\n",
    "# Add marker layer ontop of heat map\n",
    "\n",
    "markers = gmaps.marker_layer(locations, info_box_content=county_info)\n",
    "fig3.add_layer(markers)\n",
    "\n",
    "# Display figure\n",
    "\n",
    "fig3"
   ]
  },
  {
   "cell_type": "markdown",
   "id": "6cfa3888",
   "metadata": {},
   "source": [
    "Inverted colors on Vaccines heat map as a greater number of vaccines per 100,000 people is considered good."
   ]
  },
  {
   "cell_type": "markdown",
   "id": "b74bfb0f",
   "metadata": {},
   "source": [
    "### 3.\tAre there “Vaccination Deserts”? What impact have Covid-19 and the vaccines had in these areas?"
   ]
  },
  {
   "cell_type": "code",
   "execution_count": null,
   "id": "b0a88c36",
   "metadata": {},
   "outputs": [],
   "source": []
  },
  {
   "cell_type": "markdown",
   "id": "25114f08",
   "metadata": {},
   "source": [
    "### 4.\tCan we predict when California will return to “normal”?"
   ]
  },
  {
   "cell_type": "code",
   "execution_count": null,
   "id": "e9608390",
   "metadata": {},
   "outputs": [],
   "source": []
  }
 ],
 "metadata": {
  "kernelspec": {
   "display_name": "Python 3",
   "language": "python",
   "name": "python3"
  },
  "language_info": {
   "codemirror_mode": {
    "name": "ipython",
    "version": 3
   },
   "file_extension": ".py",
   "mimetype": "text/x-python",
   "name": "python",
   "nbconvert_exporter": "python",
   "pygments_lexer": "ipython3",
   "version": "3.9.1"
  }
 },
 "nbformat": 4,
 "nbformat_minor": 5
}
