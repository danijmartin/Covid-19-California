{
 "cells": [
  {
   "cell_type": "markdown",
   "metadata": {},
   "source": [
    "# Covid-19 Vaccines in California and their Impacts"
   ]
  },
  {
   "cell_type": "markdown",
   "metadata": {},
   "source": [
    "## Data Analysis"
   ]
  },
  {
   "cell_type": "markdown",
   "metadata": {},
   "source": [
    "### Hypothesis:"
   ]
  },
  {
   "cell_type": "markdown",
   "metadata": {},
   "source": [
    "#### 1. College towns had an impact on Covid-19 surges in 2020."
   ]
  },
  {
   "cell_type": "markdown",
   "metadata": {},
   "source": [
    "#### 2. Vaccines have directly impacted California’s case and death rates."
   ]
  },
  {
   "cell_type": "code",
   "execution_count": null,
   "metadata": {},
   "outputs": [],
   "source": [
    "import pandas as pd\n",
    "import matplotlib.pyplot as plt\n",
    "import numpy as np\n",
    "import scipy.stats as sts\n",
    "import gmaps\n",
    "import datetime as dt\n",
    "\n",
    "#import API key for gmaps\n",
    "from config import gkey\n",
    "gmaps.configure(api_key=gkey)"
   ]
  },
  {
   "cell_type": "code",
   "execution_count": null,
   "metadata": {},
   "outputs": [],
   "source": [
    "# import required dataframes:\n",
    "\n",
    "clean_case = pd.read_csv('Data/clean_case.csv')\n",
    "vaccine_df = pd.read_csv('Data/vaccine_df.csv')\n",
    "ca_vaccinations = pd.read_csv('Data/ca_vaccinations.csv')\n",
    "county_data = pd.read_csv('Data/county_data.csv')\n",
    "\n",
    "#reformat dates:\n",
    "clean_case['date']=pd.to_datetime(clean_case.date)\n",
    "clean_case.sort_values(by='date')\n",
    "\n",
    "ca_vaccinations['administered_date']=pd.to_datetime(ca_vaccinations.administered_date)\n",
    "ca_vaccinations = ca_vaccinations.sort_values(by='administered_date')"
   ]
  },
  {
   "cell_type": "markdown",
   "metadata": {},
   "source": [
    "## Research Analysis"
   ]
  },
  {
   "cell_type": "markdown",
   "metadata": {},
   "source": [
    "### 1. How has the introduction of the Covid vaccine affected case/death rate in California?"
   ]
  },
  {
   "cell_type": "code",
   "execution_count": null,
   "metadata": {},
   "outputs": [],
   "source": [
    "#Covid cases vs. vaccinations\n",
    "\n",
    "#covid case & dates for bar graph\n",
    "x1=(clean_case['date'])\n",
    "y1=(clean_case['cases'])\n",
    "\n",
    "#vaccine counts and dates for line graph\n",
    "x2=ca_vaccinations['administered_date']\n",
    "y2=ca_vaccinations['cumulative_doses_by_10000']\n",
    "\n",
    "#format figure\n",
    "fig, axis1 = plt.subplots(figsize=(12,8))\n",
    "axis2=axis1.twinx()    #create a second axis sharing the x-axis\n",
    "\n",
    "#create bar graph using CA case counts\n",
    "axis1.bar(x1,y1,)\n",
    "axis1.set_ylabel(\"CA Case Count\")\n",
    "axis1.set_xlabel('Date')\n",
    "\n",
    "#plot cumulative vaccine counts on 2nd y-axis\n",
    "axis2.plot(x2,y2,color='red')\n",
    "axis2.set_ylabel('Cumulative CA Vaccine Doses \\n(per 10,000)')\n",
    "\n",
    "#change y-ticks for 2nd axis\n",
    "axis2.set_yticks(np.arange(0,2000,500))\n",
    "plt.title('Covid19 Case Count vs. Vaccine Doses \\n California')\n",
    "plt.savefig('Covid19_CaseCount_vs_Vaccine')\n",
    "plt.show()"
   ]
  },
  {
   "cell_type": "code",
   "execution_count": null,
   "metadata": {},
   "outputs": [],
   "source": [
    "#covid deaths vs. vaccinations \n",
    "death_by_date = clean_case.groupby(['date'],as_index=False).agg({'deaths':['sum']})\n",
    "death_by_date.columns = death_by_date.columns.droplevel(1)\n",
    "\n",
    "#covid case & dates for bar graph\n",
    "x1=(death_by_date['date'])\n",
    "y1=(death_by_date['deaths'])\n",
    "\n",
    "#vaccine counts and dates for line graph\n",
    "x2=ca_vaccinations['administered_date']\n",
    "y2=ca_vaccinations['cumulative_doses_by_10000']\n",
    "\n",
    "#format figure\n",
    "fig, axis1 = plt.subplots(figsize=(12,8))\n",
    "axis2=axis1.twinx()    #create a second axis sharing the x-axis\n",
    "\n",
    "#create bar graph using CA case counts\n",
    "axis1.bar(x1,y1,)\n",
    "axis1.set_ylabel(\"CA Deaths\")\n",
    "axis1.set_xlabel('Date')\n",
    "\n",
    "#plot cumulative vaccine counts on 2nd y-axis\n",
    "axis2.plot(x2,y2,color='red')\n",
    "axis2.set_ylabel('Cumulative CA Vaccine Doses \\n(per 10,000)')\n",
    "\n",
    "#change y-ticks for 2nd axis\n",
    "axis2.set_yticks(np.arange(0,2000,500))\n",
    "\n",
    "plt.title('Covid19 Death Count vs. Vaccine Doses \\n California')\n",
    "plt.savefig('Covid19_DeathCount_vs_Vaccine')\n",
    "\n",
    "plt.show()"
   ]
  },
  {
   "cell_type": "markdown",
   "metadata": {},
   "source": [
    "### 2. Do “College” towns play a larger role in case surges?"
   ]
  },
  {
   "cell_type": "code",
   "execution_count": null,
   "metadata": {},
   "outputs": [],
   "source": [
    "#Grabbing 3rd quartile for heatmap max intensities\n",
    "county_data.quantile(0.75)\n",
    "\n",
    "# Locating all counties in the top quartile as \"College Counties\"\n",
    "college_counties = county_data.loc[county_data['% student population']>=7.425]\n",
    "len(college_counties)"
   ]
  },
  {
   "cell_type": "code",
   "execution_count": null,
   "metadata": {},
   "outputs": [],
   "source": [
    "# Creating heat map of Covid-19 cases\n",
    "\n",
    "center = 36.7783,-119.4179\n",
    "counties = county_data[['latitude', 'longitude']]\n",
    "cases = county_data['cases per 100,000']\n",
    "\n",
    "fig1 = gmaps.figure(center=center, zoom_level=5.5)\n",
    "\n",
    "heatmap_layer_cases = gmaps.heatmap_layer(counties, weights=cases, dissipating=False)\n",
    "heatmap_layer_cases.max_intensity = 9283\n",
    "heatmap_layer_cases.point_radius = 0.25\n",
    "\n",
    "fig1.add_layer(heatmap_layer_cases)\n",
    "\n",
    "#add college counties to the 2020 heatmap\n",
    "\n",
    "info_box_template = \"\"\"\n",
    "<dl>\n",
    "<dt>County</dt><dd>{county}</dd>\n",
    "<dt>% Students</dt><dd>{% student population}</dd>\n",
    "<dt>Cases per 100,000</dt><dd>{cases per 100,000}</dd>\n",
    "</dl>\n",
    "\"\"\"\n",
    "# Store the DataFrame Row\n",
    "\n",
    "county_info = [info_box_template.format(**row) for index, row in college_counties.iterrows()]\n",
    "locations = college_counties[['latitude', 'longitude']]\n",
    "\n",
    "# Add marker layer ontop of heat map\n",
    "\n",
    "markers = gmaps.marker_layer(locations, info_box_content=county_info)\n",
    "fig1.add_layer(markers)\n",
    "\n",
    "# Display figure\n",
    "\n",
    "fig1"
   ]
  },
  {
   "cell_type": "markdown",
   "metadata": {},
   "source": [
    "The above heatmap was originally broken down by year to see the affect of lower student populations due to virtual learning. However, the maps were identical. This also suggests that each county is maintaining it's own Covid-19 curve. No county appears to have dramatically changed its numbers between 2020 and 2021."
   ]
  },
  {
   "cell_type": "code",
   "execution_count": null,
   "metadata": {},
   "outputs": [],
   "source": [
    "# Creating heat map of Vaccines\n",
    "\n",
    "center = 36.7783,-119.4179\n",
    "counties = county_data[['latitude', 'longitude']]\n",
    "cases = county_data['Fully Vaccinated per 100,000']\n",
    "\n",
    "fig3 = gmaps.figure(center=center, zoom_level=5.5)\n",
    "\n",
    "heatmap_layer_vaccines = gmaps.heatmap_layer(counties, weights=cases, dissipating=False)\n",
    "heatmap_layer_vaccines.max_intensity = 30233\n",
    "heatmap_layer_vaccines.point_radius = 0.25\n",
    "heatmap_layer_vaccines.gradient = [(255,0,0, 0),\n",
    "                                   (255,0,0, 1),\n",
    "                                   (255,255,0, 1),\n",
    "                                   (0,255,0, 1)]\n",
    "\n",
    "fig3.add_layer(heatmap_layer_vaccines)\n",
    "\n",
    "#add college counties to the Vaccine heatmap\n",
    "\n",
    "info_box_template = \"\"\"\n",
    "<dl>\n",
    "<dt>County</dt><dd>{county}</dd>\n",
    "<dt>% Students</dt><dd>{% student population}</dd>\n",
    "<dt>Cases per 100,000</dt><dd>{Fully Vaccinated per 100,000}</dd>\n",
    "</dl>\n",
    "\"\"\"\n",
    "# Store the DataFrame Row\n",
    "\n",
    "county_info = [info_box_template.format(**row) for index, row in college_counties.iterrows()]\n",
    "locations = college_counties[['latitude', 'longitude']]\n",
    "\n",
    "# Add marker layer ontop of heat map\n",
    "\n",
    "markers = gmaps.marker_layer(locations, info_box_content=county_info)\n",
    "fig3.add_layer(markers)\n",
    "\n",
    "# Display figure\n",
    "\n",
    "fig3"
   ]
  },
  {
   "cell_type": "markdown",
   "metadata": {},
   "source": [
    "Inverted colors on Vaccines heat map as a greater number of vaccines per 100,000 people is considered good."
   ]
  },
  {
   "cell_type": "markdown",
   "metadata": {},
   "source": [
    "### 3. Are there “Vaccination Deserts”? What impact have Covid-19 and the vaccines had in these areas?"
   ]
  },
  {
   "cell_type": "code",
   "execution_count": null,
   "metadata": {},
   "outputs": [],
   "source": [
    "# find county population to normalize heat to show percent of population vaccinated\n",
    "fig4 = gmaps.figure()\n",
    "heatmap = gmaps.heatmap_layer(county_data[['latitude', 'longitude']],\n",
    "                              weights=county_data['Fully Vaccinated per 100,000'],\n",
    "                              max_intensity=50000,\n",
    "                              dissipating=False,\n",
    "                              point_radius=0.4)\n",
    "\n",
    "info_box_template = \"\"\"\n",
    "<dl>\n",
    "<dt>County</dt><dd>{county}</dd>\n",
    "<dt>Fully Vaccinated per 100,000</dt><dd>{Fully Vaccinated per 100,000}</dd>\n",
    "<dt>As of</dt><dd>03-31-2021\n",
    "</dl>\n",
    "\"\"\"\n",
    "vaccinated_info = [info_box_template.format(**county) for county in county_data.to_dict(orient='records')]\n",
    "\n",
    "symbols = gmaps.symbol_layer(county_data[['latitude', 'longitude']],\n",
    "                             hover_text=county_data.county,\n",
    "                             fill_opacity=0,\n",
    "                             stroke_opacity=0,\n",
    "                             info_box_content=vaccinated_info)\n",
    "fig4.add_layer(symbols)\n",
    "fig4.add_layer(heatmap)\n",
    "fig4"
   ]
  },
  {
   "cell_type": "code",
   "execution_count": null,
   "metadata": {},
   "outputs": [],
   "source": [
    "# quick summary of vaccination rates\n",
    "vax_mean = np.mean(county_data['Fully Vaccinated per 100,000'])\n",
    "vax_med = np.median(county_data['Fully Vaccinated per 100,000'])\n",
    "vax_max = county_data['Fully Vaccinated per 100,000'].max()\n",
    "vax_min = county_data['Fully Vaccinated per 100,000'].min()\n",
    "\n",
    "print(f\"As of 03-31-2021, the mean vaccination rate of California counties is {round(vax_mean,2)} people per 100,000, while the median is {vax_med}.\")\n",
    "print(f\"The most vaccinated county is {list(county_data.loc[county_data['Fully Vaccinated per 100,000']==vax_max].county)[0]} County, with a vaccinated rate of {vax_max} people per 100,000.\")\n",
    "print(f\"The least vaccinated county is {list(county_data.loc[county_data['Fully Vaccinated per 100,000']==vax_min].county)[0]} County, with a vaccinated rate of {vax_min} people per 100,000.\")"
   ]
  },
  {
   "cell_type": "code",
   "execution_count": null,
   "metadata": {},
   "outputs": [],
   "source": [
    "# quartile information\n",
    "quartiles = county_data['Fully Vaccinated per 100,000'].quantile([0.25,0.5,0.75])\n",
    "lowerq = quartiles[.25]\n",
    "upperq = quartiles[.75]\n",
    "iqr = upperq-lowerq\n",
    "\n",
    "upper_bound = upperq + (1.5*iqr)\n",
    "lower_bound = lowerq - (1.5*iqr)"
   ]
  },
  {
   "cell_type": "code",
   "execution_count": null,
   "metadata": {},
   "outputs": [],
   "source": [
    "# find counties in the upper/lower 25% of vaccination rates\n",
    "good_counties = county_data[county_data['Fully Vaccinated per 100,000']>=upperq].sort_values('Fully Vaccinated per 100,000',ascending=False).reset_index(drop=True)\n",
    "bad_counties = county_data[county_data['Fully Vaccinated per 100,000']<=lowerq].sort_values('Fully Vaccinated per 100,000').reset_index(drop=True)\n",
    "bad_counties = bad_counties[['county','latitude','longitude','Fully Vaccinated per 100,000']]\n",
    "good_counties = good_counties[['county','latitude','longitude','Fully Vaccinated per 100,000']]"
   ]
  },
  {
   "cell_type": "code",
   "execution_count": null,
   "metadata": {},
   "outputs": [],
   "source": [
    "# map out to see distribution of these on the map\n",
    "fig5 = gmaps.figure()\n",
    "\n",
    "info_box_template = \"\"\"\n",
    "<dl>\n",
    "<dt>County</dt><dd>{county}</dd>\n",
    "<dt>Fully Vaccinated per 100,000</dt><dd>{Fully Vaccinated per 100,000}</dd>\n",
    "<dt>As of</dt><dd>03-31-2021\n",
    "</dl>\n",
    "\"\"\"\n",
    "good_vax_info = [info_box_template.format(**county) for county in good_counties.to_dict(orient='records')]\n",
    "bad_vax_info = [info_box_template.format(**county) for county in bad_counties.to_dict(orient='records')]\n",
    "\n",
    "good_symbols = gmaps.symbol_layer(good_counties[['latitude', 'longitude']],\n",
    "                             hover_text=good_counties.county,\n",
    "                             fill_opacity=1,\n",
    "                             stroke_opacity=0,\n",
    "                             fill_color='blue',\n",
    "                             info_box_content=good_vax_info)\n",
    "\n",
    "bad_symbols = gmaps.symbol_layer(bad_counties[['latitude', 'longitude']],\n",
    "                             hover_text=bad_counties.county,\n",
    "                             fill_opacity=1,\n",
    "                             stroke_opacity=0,\n",
    "                             fill_color='red',\n",
    "                             info_box_content=bad_vax_info)\n",
    "\n",
    "fig5.add_layer(good_symbols)\n",
    "fig5.add_layer(bad_symbols)\n",
    "fig5"
   ]
  },
  {
   "cell_type": "markdown",
   "metadata": {},
   "source": [
    "The map above shows the distribution of counties in the top 25% (blue) of vaccination rates and the bottom 25% (red) of vaccination rates."
   ]
  },
  {
   "cell_type": "code",
   "execution_count": null,
   "metadata": {},
   "outputs": [],
   "source": []
  },
  {
   "cell_type": "code",
   "execution_count": null,
   "metadata": {},
   "outputs": [],
   "source": []
  },
  {
   "cell_type": "markdown",
   "metadata": {},
   "source": [
    "### 4. Can we predict when California will return to “normal”?"
   ]
  },
  {
   "cell_type": "code",
   "execution_count": null,
   "metadata": {},
   "outputs": [],
   "source": []
  }
 ],
 "metadata": {
  "kernelspec": {
   "display_name": "Python 3",
   "language": "python",
   "name": "python3"
  },
  "language_info": {
   "codemirror_mode": {
    "name": "ipython",
    "version": 3
   },
   "file_extension": ".py",
   "mimetype": "text/x-python",
   "name": "python",
   "nbconvert_exporter": "python",
   "pygments_lexer": "ipython3",
   "version": "3.8.5"
  }
 },
 "nbformat": 4,
 "nbformat_minor": 4
}
